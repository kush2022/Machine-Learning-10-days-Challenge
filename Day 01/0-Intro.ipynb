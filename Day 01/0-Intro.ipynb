{
 "cells": [
  {
   "cell_type": "markdown",
   "id": "0517e774-1346-4e71-a697-368ed45dedaa",
   "metadata": {},
   "source": [
    "## Introduction to machine learning \n"
   ]
  },
  {
   "cell_type": "markdown",
   "id": "fa8177fb-5b80-4809-a328-12909ff6af43",
   "metadata": {},
   "source": [
    "# Define \n",
    "- Machine learning is a subset of artificial intelligence that focuses on building systems that learn - or improve performance based on the data they consume\n",
    "- Artificial intelligence is a broad term that refers to systems or machines that mimic human intelligence.\n",
    "\n",
    "# Types of Machine learning \n",
    "- Algorithms are the engines that power machine learning.\n",
    "- Two major types of machine algorithms are used today: supervised and unsupervised learning.\n",
    "## 1. Supervised Machine learning \n",
    "- Is a type of machine learning where the algorithm is trained on labeled dataset, which means that the data used for training contains boths input features and the corresponding output.\n",
    "- The goal is for the algorithm for the to learn a mapping from the input to the output so that it can make prediction or classifications on new, unseen data.\n",
    "\n",
    "\n",
    "## 2. Unsupervised Machine learning \n",
    "- Is a type of machine learning where the algorithm is trained on an unlabeled dataset, the goal is to find patterns, relationships or structures in the data without explicit guidance on the output.\n",
    "- In other words the algorithm is left to discover the inherent structure of the data on its own.\n",
    "\n",
    "\n",
    "\n",
    "\n",
    "# Key words \n",
    "- Labeled dataset --> The dataset used for training contains examples where the correct output(label)is provided along with the input features.\n",
    "- Unlabeled dataset --> The dataset used for training does not contain labeled outputs.\n",
    "- "
   ]
  },
  {
   "cell_type": "code",
   "execution_count": null,
   "id": "b5c0cc0f-681a-4f05-ab9b-10e4fe2fb4fe",
   "metadata": {},
   "outputs": [],
   "source": []
  }
 ],
 "metadata": {
  "kernelspec": {
   "display_name": "Python 3 (ipykernel)",
   "language": "python",
   "name": "python3"
  },
  "language_info": {
   "codemirror_mode": {
    "name": "ipython",
    "version": 3
   },
   "file_extension": ".py",
   "mimetype": "text/x-python",
   "name": "python",
   "nbconvert_exporter": "python",
   "pygments_lexer": "ipython3",
   "version": "3.10.13"
  }
 },
 "nbformat": 4,
 "nbformat_minor": 5
}
